{
  "nbformat": 4,
  "nbformat_minor": 0,
  "metadata": {
    "colab": {
      "name": "Cifar100-resnet34.ipynb",
      "provenance": [],
      "authorship_tag": "ABX9TyMfyZhPRgU4NFWNxKf1irPC",
      "include_colab_link": true
    },
    "kernelspec": {
      "name": "python3",
      "display_name": "Python 3"
    },
    "language_info": {
      "name": "python"
    },
    "accelerator": "GPU"
  },
  "cells": [
    {
      "cell_type": "markdown",
      "metadata": {
        "id": "view-in-github",
        "colab_type": "text"
      },
      "source": [
        "<a href=\"https://colab.research.google.com/github/dolong2110/Cifar100-Classification/blob/main/Cifar100_resnet34.ipynb\" target=\"_parent\"><img src=\"https://colab.research.google.com/assets/colab-badge.svg\" alt=\"Open In Colab\"/></a>"
      ]
    },
    {
      "cell_type": "code",
      "metadata": {
        "colab": {
          "base_uri": "https://localhost:8080/"
        },
        "id": "htqHX6XwHEdo",
        "outputId": "50d9a6c3-7ad2-4726-bd0e-0c0fcf8f9d9e"
      },
      "source": [
        "!git clone https://github.com/dolong2110/Cifar100-Classification.git"
      ],
      "execution_count": 5,
      "outputs": [
        {
          "output_type": "stream",
          "name": "stdout",
          "text": [
            "Cloning into 'Cifar100-Classification'...\n",
            "remote: Enumerating objects: 232, done.\u001b[K\n",
            "remote: Counting objects:   0% (1/232)\u001b[K\rremote: Counting objects:   1% (3/232)\u001b[K\rremote: Counting objects:   2% (5/232)\u001b[K\rremote: Counting objects:   3% (7/232)\u001b[K\rremote: Counting objects:   4% (10/232)\u001b[K\rremote: Counting objects:   5% (12/232)\u001b[K\rremote: Counting objects:   6% (14/232)\u001b[K\rremote: Counting objects:   7% (17/232)\u001b[K\rremote: Counting objects:   8% (19/232)\u001b[K\rremote: Counting objects:   9% (21/232)\u001b[K\rremote: Counting objects:  10% (24/232)\u001b[K\rremote: Counting objects:  11% (26/232)\u001b[K\rremote: Counting objects:  12% (28/232)\u001b[K\rremote: Counting objects:  13% (31/232)\u001b[K\rremote: Counting objects:  14% (33/232)\u001b[K\rremote: Counting objects:  15% (35/232)\u001b[K\rremote: Counting objects:  16% (38/232)\u001b[K\rremote: Counting objects:  17% (40/232)\u001b[K\rremote: Counting objects:  18% (42/232)\u001b[K\rremote: Counting objects:  19% (45/232)\u001b[K\rremote: Counting objects:  20% (47/232)\u001b[K\rremote: Counting objects:  21% (49/232)\u001b[K\rremote: Counting objects:  22% (52/232)\u001b[K\rremote: Counting objects:  23% (54/232)\u001b[K\rremote: Counting objects:  24% (56/232)\u001b[K\rremote: Counting objects:  25% (58/232)\u001b[K\rremote: Counting objects:  26% (61/232)\u001b[K\rremote: Counting objects:  27% (63/232)\u001b[K\rremote: Counting objects:  28% (65/232)\u001b[K\rremote: Counting objects:  29% (68/232)\u001b[K\rremote: Counting objects:  30% (70/232)\u001b[K\rremote: Counting objects:  31% (72/232)\u001b[K\rremote: Counting objects:  32% (75/232)\u001b[K\rremote: Counting objects:  33% (77/232)\u001b[K\rremote: Counting objects:  34% (79/232)\u001b[K\rremote: Counting objects:  35% (82/232)\u001b[K\rremote: Counting objects:  36% (84/232)\u001b[K\rremote: Counting objects:  37% (86/232)\u001b[K\rremote: Counting objects:  38% (89/232)\u001b[K\rremote: Counting objects:  39% (91/232)\u001b[K\rremote: Counting objects:  40% (93/232)\u001b[K\rremote: Counting objects:  41% (96/232)\u001b[K\rremote: Counting objects:  42% (98/232)\u001b[K\rremote: Counting objects:  43% (100/232)\u001b[K\rremote: Counting objects:  44% (103/232)\u001b[K\rremote: Counting objects:  45% (105/232)\u001b[K\rremote: Counting objects:  46% (107/232)\u001b[K\rremote: Counting objects:  47% (110/232)\u001b[K\rremote: Counting objects:  48% (112/232)\u001b[K\rremote: Counting objects:  49% (114/232)\u001b[K\rremote: Counting objects:  50% (116/232)\u001b[K\rremote: Counting objects:  51% (119/232)\u001b[K\rremote: Counting objects:  52% (121/232)\u001b[K\rremote: Counting objects:  53% (123/232)\u001b[K\rremote: Counting objects:  54% (126/232)\u001b[K\rremote: Counting objects:  55% (128/232)\u001b[K\rremote: Counting objects:  56% (130/232)\u001b[K\rremote: Counting objects:  57% (133/232)\u001b[K\rremote: Counting objects:  58% (135/232)\u001b[K\rremote: Counting objects:  59% (137/232)\u001b[K\rremote: Counting objects:  60% (140/232)\u001b[K\rremote: Counting objects:  61% (142/232)\u001b[K\rremote: Counting objects:  62% (144/232)\u001b[K\rremote: Counting objects:  63% (147/232)\u001b[K\rremote: Counting objects:  64% (149/232)\u001b[K\rremote: Counting objects:  65% (151/232)\u001b[K\rremote: Counting objects:  66% (154/232)\u001b[K\rremote: Counting objects:  67% (156/232)\u001b[K\rremote: Counting objects:  68% (158/232)\u001b[K\rremote: Counting objects:  69% (161/232)\u001b[K\rremote: Counting objects:  70% (163/232)\u001b[K\rremote: Counting objects:  71% (165/232)\u001b[K\rremote: Counting objects:  72% (168/232)\u001b[K\rremote: Counting objects:  73% (170/232)\u001b[K\rremote: Counting objects:  74% (172/232)\u001b[K\rremote: Counting objects:  75% (174/232)\u001b[K\rremote: Counting objects:  76% (177/232)\u001b[K\rremote: Counting objects:  77% (179/232)\u001b[K\rremote: Counting objects:  78% (181/232)\u001b[K\rremote: Counting objects:  79% (184/232)\u001b[K\rremote: Counting objects:  80% (186/232)\u001b[K\rremote: Counting objects:  81% (188/232)\u001b[K\rremote: Counting objects:  82% (191/232)\u001b[K\rremote: Counting objects:  83% (193/232)\u001b[K\rremote: Counting objects:  84% (195/232)\u001b[K\rremote: Counting objects:  85% (198/232)\u001b[K\rremote: Counting objects:  86% (200/232)\u001b[K\rremote: Counting objects:  87% (202/232)\u001b[K\rremote: Counting objects:  88% (205/232)\u001b[K\rremote: Counting objects:  89% (207/232)\u001b[K\rremote: Counting objects:  90% (209/232)\u001b[K\rremote: Counting objects:  91% (212/232)\u001b[K\rremote: Counting objects:  92% (214/232)\u001b[K\rremote: Counting objects:  93% (216/232)\u001b[K\rremote: Counting objects:  94% (219/232)\u001b[K\rremote: Counting objects:  95% (221/232)\u001b[K\rremote: Counting objects:  96% (223/232)\u001b[K\rremote: Counting objects:  97% (226/232)\u001b[K\rremote: Counting objects:  98% (228/232)\u001b[K\rremote: Counting objects:  99% (230/232)\u001b[K\rremote: Counting objects: 100% (232/232)\u001b[K\rremote: Counting objects: 100% (232/232), done.\u001b[K\n",
            "remote: Compressing objects: 100% (165/165), done.\u001b[K\n",
            "remote: Total 232 (delta 112), reused 175 (delta 60), pack-reused 0\u001b[K\n",
            "Receiving objects: 100% (232/232), 35.30 KiB | 1.68 MiB/s, done.\n",
            "Resolving deltas: 100% (112/112), done.\n"
          ]
        }
      ]
    },
    {
      "cell_type": "code",
      "metadata": {
        "colab": {
          "base_uri": "https://localhost:8080/"
        },
        "id": "V3gpoyG-HFnm",
        "outputId": "840ef376-1f38-4a2b-a1e6-aac1a61f7c4d"
      },
      "source": [
        "%cd Cifar100-Classification"
      ],
      "execution_count": 6,
      "outputs": [
        {
          "output_type": "stream",
          "name": "stdout",
          "text": [
            "/content/Cifar100-Classification/Cifar100-Classification\n"
          ]
        }
      ]
    },
    {
      "cell_type": "code",
      "metadata": {
        "colab": {
          "base_uri": "https://localhost:8080/"
        },
        "id": "4tOLKrhHHHg-",
        "outputId": "b5176241-596f-4325-ffbf-733cd2e2ee3d"
      },
      "source": [
        "!pip install -r requirements.txt"
      ],
      "execution_count": 7,
      "outputs": [
        {
          "output_type": "stream",
          "name": "stdout",
          "text": [
            "Requirement already satisfied: numpy>=1.19.5 in /usr/local/lib/python3.7/dist-packages (from -r requirements.txt (line 4)) (1.19.5)\n",
            "Requirement already satisfied: torch>=1.10.0 in /usr/local/lib/python3.7/dist-packages (from -r requirements.txt (line 5)) (1.10.0+cu111)\n",
            "Requirement already satisfied: torchvision>=0.11.1 in /usr/local/lib/python3.7/dist-packages (from -r requirements.txt (line 6)) (0.11.1+cu111)\n",
            "Requirement already satisfied: jsonargparse[signatures] in /usr/local/lib/python3.7/dist-packages (from -r requirements.txt (line 7)) (4.0.0)\n",
            "Requirement already satisfied: matplotlib>=3.2.2 in /usr/local/lib/python3.7/dist-packages (from -r requirements.txt (line 13)) (3.2.2)\n",
            "Requirement already satisfied: typing-extensions in /usr/local/lib/python3.7/dist-packages (from torch>=1.10.0->-r requirements.txt (line 5)) (3.10.0.2)\n",
            "Requirement already satisfied: pillow!=8.3.0,>=5.3.0 in /usr/local/lib/python3.7/dist-packages (from torchvision>=0.11.1->-r requirements.txt (line 6)) (7.1.2)\n",
            "Requirement already satisfied: cycler>=0.10 in /usr/local/lib/python3.7/dist-packages (from matplotlib>=3.2.2->-r requirements.txt (line 13)) (0.11.0)\n",
            "Requirement already satisfied: pyparsing!=2.0.4,!=2.1.2,!=2.1.6,>=2.0.1 in /usr/local/lib/python3.7/dist-packages (from matplotlib>=3.2.2->-r requirements.txt (line 13)) (3.0.6)\n",
            "Requirement already satisfied: python-dateutil>=2.1 in /usr/local/lib/python3.7/dist-packages (from matplotlib>=3.2.2->-r requirements.txt (line 13)) (2.8.2)\n",
            "Requirement already satisfied: kiwisolver>=1.0.1 in /usr/local/lib/python3.7/dist-packages (from matplotlib>=3.2.2->-r requirements.txt (line 13)) (1.3.2)\n",
            "Requirement already satisfied: six>=1.5 in /usr/local/lib/python3.7/dist-packages (from python-dateutil>=2.1->matplotlib>=3.2.2->-r requirements.txt (line 13)) (1.15.0)\n",
            "Requirement already satisfied: PyYAML>=3.13 in /usr/local/lib/python3.7/dist-packages (from jsonargparse[signatures]->-r requirements.txt (line 7)) (3.13)\n",
            "Requirement already satisfied: docstring-parser>=0.7.3 in /usr/local/lib/python3.7/dist-packages (from jsonargparse[signatures]->-r requirements.txt (line 7)) (0.13)\n"
          ]
        }
      ]
    },
    {
      "cell_type": "code",
      "metadata": {
        "colab": {
          "base_uri": "https://localhost:8080/"
        },
        "id": "apEnQpwYHOlt",
        "outputId": "10f5d25a-b2f2-43fd-eeba-a2e1a43058ef"
      },
      "source": [
        "!python3 train.py --model resnet34 --image_size 32"
      ],
      "execution_count": 8,
      "outputs": [
        {
          "output_type": "stream",
          "name": "stdout",
          "text": [
            "Downloading https://www.cs.toronto.edu/~kriz/cifar-100-python.tar.gz to ./data/cifar-100-python.tar.gz\n",
            "169001984it [00:02, 62409761.07it/s]                   \n",
            "Extracting ./data/cifar-100-python.tar.gz to ./data\n",
            "Files already downloaded and verified\n",
            "Epoch [0], last_lr: 0.00278, train_loss: 3.8247, val_loss: 4.3000, val_acc: 0.1166\n",
            "Epoch [1], last_lr: 0.00759, train_loss: 3.1438, val_loss: 3.6906, val_acc: 0.1701\n",
            "Epoch [2], last_lr: 0.01000, train_loss: 2.5291, val_loss: 2.6372, val_acc: 0.3113\n",
            "Epoch [3], last_lr: 0.00950, train_loss: 2.0689, val_loss: 2.3827, val_acc: 0.3754\n",
            "Epoch [4], last_lr: 0.00812, train_loss: 1.7443, val_loss: 2.2841, val_acc: 0.4040\n",
            "Epoch [5], last_lr: 0.00611, train_loss: 1.4792, val_loss: 1.7580, val_acc: 0.5175\n",
            "Epoch [6], last_lr: 0.00389, train_loss: 1.1531, val_loss: 1.6204, val_acc: 0.5536\n",
            "Epoch [7], last_lr: 0.00188, train_loss: 0.7268, val_loss: 1.4969, val_acc: 0.5929\n",
            "Epoch [8], last_lr: 0.00050, train_loss: 0.2636, val_loss: 1.4065, val_acc: 0.6418\n",
            "Epoch [9], last_lr: 0.00000, train_loss: 0.0709, val_loss: 1.4291, val_acc: 0.6479\n"
          ]
        }
      ]
    },
    {
      "cell_type": "code",
      "metadata": {
        "id": "AzMOu5MBHTS-"
      },
      "source": [
        ""
      ],
      "execution_count": 8,
      "outputs": []
    }
  ]
}