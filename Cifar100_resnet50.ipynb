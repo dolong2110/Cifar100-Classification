{
  "nbformat": 4,
  "nbformat_minor": 0,
  "metadata": {
    "colab": {
      "name": "Cifar100-resnet50.ipynb",
      "provenance": [],
      "authorship_tag": "ABX9TyPSnUMAn3szDi5OGFOqzLji",
      "include_colab_link": true
    },
    "kernelspec": {
      "name": "python3",
      "display_name": "Python 3"
    },
    "language_info": {
      "name": "python"
    },
    "accelerator": "GPU"
  },
  "cells": [
    {
      "cell_type": "markdown",
      "metadata": {
        "id": "view-in-github",
        "colab_type": "text"
      },
      "source": [
        "<a href=\"https://colab.research.google.com/github/dolong2110/Cifar100-Classification/blob/main/Cifar100_resnet50.ipynb\" target=\"_parent\"><img src=\"https://colab.research.google.com/assets/colab-badge.svg\" alt=\"Open In Colab\"/></a>"
      ]
    },
    {
      "cell_type": "code",
      "metadata": {
        "colab": {
          "base_uri": "https://localhost:8080/"
        },
        "id": "4SIvzplghGt9",
        "outputId": "b231f1f8-2aaf-4d3c-d5c9-912696a8eaee"
      },
      "source": [
        "!git clone https://github.com/dolong2110/Cifar100-Classification.git"
      ],
      "execution_count": 2,
      "outputs": [
        {
          "output_type": "stream",
          "name": "stdout",
          "text": [
            "Cloning into 'Cifar100-Classification'...\n",
            "remote: Enumerating objects: 235, done.\u001b[K\n",
            "remote: Counting objects: 100% (235/235), done.\u001b[K\n",
            "remote: Compressing objects: 100% (168/168), done.\u001b[K\n",
            "remote: Total 235 (delta 114), reused 175 (delta 60), pack-reused 0\u001b[K\n",
            "Receiving objects: 100% (235/235), 36.75 KiB | 1.67 MiB/s, done.\n",
            "Resolving deltas: 100% (114/114), done.\n"
          ]
        }
      ]
    },
    {
      "cell_type": "code",
      "metadata": {
        "colab": {
          "base_uri": "https://localhost:8080/"
        },
        "id": "N8_o9arthHl5",
        "outputId": "737c7aa2-c96d-41e7-d620-169fd2e5e18a"
      },
      "source": [
        "%cd Cifar100-Classification"
      ],
      "execution_count": 3,
      "outputs": [
        {
          "output_type": "stream",
          "name": "stdout",
          "text": [
            "/content/Cifar100-Classification\n"
          ]
        }
      ]
    },
    {
      "cell_type": "code",
      "metadata": {
        "colab": {
          "base_uri": "https://localhost:8080/"
        },
        "id": "vPbwvLKVjQZx",
        "outputId": "5bdbe686-8e8f-4e78-e97e-4a0bc7659149"
      },
      "source": [
        "!pip install -r requirements.txt"
      ],
      "execution_count": 4,
      "outputs": [
        {
          "output_type": "stream",
          "name": "stdout",
          "text": [
            "Requirement already satisfied: numpy>=1.19.5 in /usr/local/lib/python3.7/dist-packages (from -r requirements.txt (line 4)) (1.19.5)\n",
            "Requirement already satisfied: torch>=1.10.0 in /usr/local/lib/python3.7/dist-packages (from -r requirements.txt (line 5)) (1.10.0+cu111)\n",
            "Requirement already satisfied: torchvision>=0.11.1 in /usr/local/lib/python3.7/dist-packages (from -r requirements.txt (line 6)) (0.11.1+cu111)\n",
            "Collecting jsonargparse[signatures]\n",
            "  Downloading jsonargparse-4.0.0-py3-none-any.whl (119 kB)\n",
            "\u001b[K     |████████████████████████████████| 119 kB 5.4 MB/s \n",
            "\u001b[?25hRequirement already satisfied: matplotlib>=3.2.2 in /usr/local/lib/python3.7/dist-packages (from -r requirements.txt (line 13)) (3.2.2)\n",
            "Requirement already satisfied: typing-extensions in /usr/local/lib/python3.7/dist-packages (from torch>=1.10.0->-r requirements.txt (line 5)) (3.10.0.2)\n",
            "Requirement already satisfied: pillow!=8.3.0,>=5.3.0 in /usr/local/lib/python3.7/dist-packages (from torchvision>=0.11.1->-r requirements.txt (line 6)) (7.1.2)\n",
            "Requirement already satisfied: pyparsing!=2.0.4,!=2.1.2,!=2.1.6,>=2.0.1 in /usr/local/lib/python3.7/dist-packages (from matplotlib>=3.2.2->-r requirements.txt (line 13)) (3.0.6)\n",
            "Requirement already satisfied: python-dateutil>=2.1 in /usr/local/lib/python3.7/dist-packages (from matplotlib>=3.2.2->-r requirements.txt (line 13)) (2.8.2)\n",
            "Requirement already satisfied: kiwisolver>=1.0.1 in /usr/local/lib/python3.7/dist-packages (from matplotlib>=3.2.2->-r requirements.txt (line 13)) (1.3.2)\n",
            "Requirement already satisfied: cycler>=0.10 in /usr/local/lib/python3.7/dist-packages (from matplotlib>=3.2.2->-r requirements.txt (line 13)) (0.11.0)\n",
            "Requirement already satisfied: six>=1.5 in /usr/local/lib/python3.7/dist-packages (from python-dateutil>=2.1->matplotlib>=3.2.2->-r requirements.txt (line 13)) (1.15.0)\n",
            "Requirement already satisfied: PyYAML>=3.13 in /usr/local/lib/python3.7/dist-packages (from jsonargparse[signatures]->-r requirements.txt (line 7)) (3.13)\n",
            "Collecting docstring-parser>=0.7.3\n",
            "  Downloading docstring_parser-0.13.tar.gz (23 kB)\n",
            "  Installing build dependencies ... \u001b[?25l\u001b[?25hdone\n",
            "  Getting requirements to build wheel ... \u001b[?25l\u001b[?25hdone\n",
            "    Preparing wheel metadata ... \u001b[?25l\u001b[?25hdone\n",
            "Building wheels for collected packages: docstring-parser\n",
            "  Building wheel for docstring-parser (PEP 517) ... \u001b[?25l\u001b[?25hdone\n",
            "  Created wheel for docstring-parser: filename=docstring_parser-0.13-py3-none-any.whl size=31865 sha256=533150eda721f326081765345a382a9250670816887964ad44482a75abdccc2c\n",
            "  Stored in directory: /root/.cache/pip/wheels/bd/88/3c/d1aa049309f7945178cac9fbe6561a86424f432da57c18ca0f\n",
            "Successfully built docstring-parser\n",
            "Installing collected packages: jsonargparse, docstring-parser\n",
            "Successfully installed docstring-parser-0.13 jsonargparse-4.0.0\n"
          ]
        }
      ]
    },
    {
      "cell_type": "code",
      "metadata": {
        "colab": {
          "base_uri": "https://localhost:8080/"
        },
        "id": "-dysvR-5jS5n",
        "outputId": "1a851dbf-25c8-4f65-9549-44770f42b444"
      },
      "source": [
        "!python3 train.py --model resnet50 --image_size 32"
      ],
      "execution_count": 5,
      "outputs": [
        {
          "output_type": "stream",
          "name": "stdout",
          "text": [
            "Downloading https://www.cs.toronto.edu/~kriz/cifar-100-python.tar.gz to ./data/cifar-100-python.tar.gz\n",
            "169001984it [00:02, 63409984.65it/s]                   \n",
            "Extracting ./data/cifar-100-python.tar.gz to ./data\n",
            "Files already downloaded and verified\n",
            "Epoch [0], last_lr: 0.00278, train_loss: 4.1050, val_loss: 88.4720, val_acc: 0.0747\n",
            "Epoch [1], last_lr: 0.00759, train_loss: 3.5694, val_loss: 3.4890, val_acc: 0.1680\n",
            "Epoch [2], last_lr: 0.01000, train_loss: 3.0028, val_loss: 3.1057, val_acc: 0.2413\n",
            "Epoch [3], last_lr: 0.00950, train_loss: 2.4995, val_loss: 2.5810, val_acc: 0.3279\n",
            "Epoch [4], last_lr: 0.00812, train_loss: 2.1586, val_loss: 2.6829, val_acc: 0.3342\n",
            "Epoch [5], last_lr: 0.00611, train_loss: 1.9060, val_loss: 2.1864, val_acc: 0.4161\n",
            "Epoch [6], last_lr: 0.00389, train_loss: 1.6171, val_loss: 1.9010, val_acc: 0.4834\n",
            "Epoch [7], last_lr: 0.00188, train_loss: 1.2817, val_loss: 1.5760, val_acc: 0.5611\n",
            "Epoch [8], last_lr: 0.00050, train_loss: 0.8638, val_loss: 1.4224, val_acc: 0.6021\n",
            "Epoch [9], last_lr: 0.00000, train_loss: 0.5359, val_loss: 1.3975, val_acc: 0.6133\n"
          ]
        }
      ]
    },
    {
      "cell_type": "code",
      "metadata": {
        "id": "FCPRyCX4jfjS"
      },
      "source": [
        ""
      ],
      "execution_count": 5,
      "outputs": []
    }
  ]
}