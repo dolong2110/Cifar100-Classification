{
  "nbformat": 4,
  "nbformat_minor": 0,
  "metadata": {
    "colab": {
      "name": "Cifar100-resnet9.ipynb",
      "provenance": [],
      "collapsed_sections": [],
      "authorship_tag": "ABX9TyNykqFdEjjSMvGTtzvfYFhL",
      "include_colab_link": true
    },
    "kernelspec": {
      "name": "python3",
      "display_name": "Python 3"
    },
    "language_info": {
      "name": "python"
    },
    "accelerator": "GPU"
  },
  "cells": [
    {
      "cell_type": "markdown",
      "metadata": {
        "id": "view-in-github",
        "colab_type": "text"
      },
      "source": [
        "<a href=\"https://colab.research.google.com/github/dolong2110/Cifar100-Classification/blob/main/Cifar100_resnet9.ipynb\" target=\"_parent\"><img src=\"https://colab.research.google.com/assets/colab-badge.svg\" alt=\"Open In Colab\"/></a>"
      ]
    },
    {
      "cell_type": "code",
      "metadata": {
        "colab": {
          "base_uri": "https://localhost:8080/"
        },
        "id": "4SIvzplghGt9",
        "outputId": "c79acb48-e763-4d18-d9f5-f6235b1a3eb4"
      },
      "source": [
        "!git clone https://github.com/dolong2110/Cifar100-Classification.git"
      ],
      "execution_count": 8,
      "outputs": [
        {
          "output_type": "stream",
          "name": "stdout",
          "text": [
            "Cloning into 'Cifar100-Classification'...\n",
            "remote: Enumerating objects: 238, done.\u001b[K\n",
            "remote: Counting objects: 100% (238/238), done.\u001b[K\n",
            "remote: Compressing objects: 100% (171/171), done.\u001b[K\n",
            "remote: Total 238 (delta 116), reused 175 (delta 60), pack-reused 0\u001b[K\n",
            "Receiving objects: 100% (238/238), 37.73 KiB | 1.89 MiB/s, done.\n",
            "Resolving deltas: 100% (116/116), done.\n",
            "Cloning into 'Cifar100-Classification'...\n",
            "remote: Enumerating objects: 238, done.\u001b[K\n",
            "remote: Counting objects: 100% (238/238), done.\u001b[K\n",
            "remote: Compressing objects: 100% (171/171), done.\u001b[K\n",
            "remote: Total 238 (delta 116), reused 175 (delta 60), pack-reused 0\u001b[K\n",
            "Receiving objects: 100% (238/238), 37.73 KiB | 1.71 MiB/s, done.\n",
            "Resolving deltas: 100% (116/116), done.\n"
          ]
        }
      ]
    },
    {
      "cell_type": "code",
      "metadata": {
        "colab": {
          "base_uri": "https://localhost:8080/"
        },
        "id": "N8_o9arthHl5",
        "outputId": "9b901433-ae15-41da-db17-654b59d33523"
      },
      "source": [
        "%cd Cifar100-Classification"
      ],
      "execution_count": 9,
      "outputs": [
        {
          "output_type": "stream",
          "name": "stdout",
          "text": [
            "/content/Cifar100-Classification/Cifar100-Classification\n",
            "/content/Cifar100-Classification/Cifar100-Classification/Cifar100-Classification\n"
          ]
        }
      ]
    },
    {
      "cell_type": "code",
      "metadata": {
        "colab": {
          "base_uri": "https://localhost:8080/"
        },
        "id": "vPbwvLKVjQZx",
        "outputId": "402b3d53-5411-4cc6-b808-d351f1a9ce32"
      },
      "source": [
        "!pip install -r requirements.txt"
      ],
      "execution_count": 10,
      "outputs": [
        {
          "output_type": "stream",
          "name": "stdout",
          "text": [
            "Requirement already satisfied: numpy>=1.19.5 in /usr/local/lib/python3.7/dist-packages (from -r requirements.txt (line 4)) (1.19.5)\n",
            "Requirement already satisfied: torch>=1.10.0 in /usr/local/lib/python3.7/dist-packages (from -r requirements.txt (line 5)) (1.10.0+cu111)\n",
            "Requirement already satisfied: torchvision>=0.11.1 in /usr/local/lib/python3.7/dist-packages (from -r requirements.txt (line 6)) (0.11.1+cu111)\n",
            "Requirement already satisfied: jsonargparse[signatures] in /usr/local/lib/python3.7/dist-packages (from -r requirements.txt (line 7)) (4.0.0)\n",
            "Requirement already satisfied: matplotlib>=3.2.2 in /usr/local/lib/python3.7/dist-packages (from -r requirements.txt (line 13)) (3.2.2)\n",
            "Requirement already satisfied: typing-extensions in /usr/local/lib/python3.7/dist-packages (from torch>=1.10.0->-r requirements.txt (line 5)) (3.10.0.2)\n",
            "Requirement already satisfied: pillow!=8.3.0,>=5.3.0 in /usr/local/lib/python3.7/dist-packages (from torchvision>=0.11.1->-r requirements.txt (line 6)) (7.1.2)\n",
            "Requirement already satisfied: pyparsing!=2.0.4,!=2.1.2,!=2.1.6,>=2.0.1 in /usr/local/lib/python3.7/dist-packages (from matplotlib>=3.2.2->-r requirements.txt (line 13)) (3.0.6)\n",
            "Requirement already satisfied: python-dateutil>=2.1 in /usr/local/lib/python3.7/dist-packages (from matplotlib>=3.2.2->-r requirements.txt (line 13)) (2.8.2)\n",
            "Requirement already satisfied: cycler>=0.10 in /usr/local/lib/python3.7/dist-packages (from matplotlib>=3.2.2->-r requirements.txt (line 13)) (0.11.0)\n",
            "Requirement already satisfied: kiwisolver>=1.0.1 in /usr/local/lib/python3.7/dist-packages (from matplotlib>=3.2.2->-r requirements.txt (line 13)) (1.3.2)\n",
            "Requirement already satisfied: six>=1.5 in /usr/local/lib/python3.7/dist-packages (from python-dateutil>=2.1->matplotlib>=3.2.2->-r requirements.txt (line 13)) (1.15.0)\n",
            "Requirement already satisfied: PyYAML>=3.13 in /usr/local/lib/python3.7/dist-packages (from jsonargparse[signatures]->-r requirements.txt (line 7)) (3.13)\n",
            "Requirement already satisfied: docstring-parser>=0.7.3 in /usr/local/lib/python3.7/dist-packages (from jsonargparse[signatures]->-r requirements.txt (line 7)) (0.13)\n",
            "Requirement already satisfied: numpy>=1.19.5 in /usr/local/lib/python3.7/dist-packages (from -r requirements.txt (line 4)) (1.19.5)\n",
            "Requirement already satisfied: torch>=1.10.0 in /usr/local/lib/python3.7/dist-packages (from -r requirements.txt (line 5)) (1.10.0+cu111)\n",
            "Requirement already satisfied: torchvision>=0.11.1 in /usr/local/lib/python3.7/dist-packages (from -r requirements.txt (line 6)) (0.11.1+cu111)\n",
            "Requirement already satisfied: jsonargparse[signatures] in /usr/local/lib/python3.7/dist-packages (from -r requirements.txt (line 7)) (4.0.0)\n",
            "Requirement already satisfied: matplotlib>=3.2.2 in /usr/local/lib/python3.7/dist-packages (from -r requirements.txt (line 13)) (3.2.2)\n",
            "Requirement already satisfied: typing-extensions in /usr/local/lib/python3.7/dist-packages (from torch>=1.10.0->-r requirements.txt (line 5)) (3.10.0.2)\n",
            "Requirement already satisfied: pillow!=8.3.0,>=5.3.0 in /usr/local/lib/python3.7/dist-packages (from torchvision>=0.11.1->-r requirements.txt (line 6)) (7.1.2)\n",
            "Requirement already satisfied: kiwisolver>=1.0.1 in /usr/local/lib/python3.7/dist-packages (from matplotlib>=3.2.2->-r requirements.txt (line 13)) (1.3.2)\n",
            "Requirement already satisfied: python-dateutil>=2.1 in /usr/local/lib/python3.7/dist-packages (from matplotlib>=3.2.2->-r requirements.txt (line 13)) (2.8.2)\n",
            "Requirement already satisfied: pyparsing!=2.0.4,!=2.1.2,!=2.1.6,>=2.0.1 in /usr/local/lib/python3.7/dist-packages (from matplotlib>=3.2.2->-r requirements.txt (line 13)) (3.0.6)\n",
            "Requirement already satisfied: cycler>=0.10 in /usr/local/lib/python3.7/dist-packages (from matplotlib>=3.2.2->-r requirements.txt (line 13)) (0.11.0)\n",
            "Requirement already satisfied: six>=1.5 in /usr/local/lib/python3.7/dist-packages (from python-dateutil>=2.1->matplotlib>=3.2.2->-r requirements.txt (line 13)) (1.15.0)\n",
            "Requirement already satisfied: PyYAML>=3.13 in /usr/local/lib/python3.7/dist-packages (from jsonargparse[signatures]->-r requirements.txt (line 7)) (3.13)\n",
            "Requirement already satisfied: docstring-parser>=0.7.3 in /usr/local/lib/python3.7/dist-packages (from jsonargparse[signatures]->-r requirements.txt (line 7)) (0.13)\n"
          ]
        }
      ]
    },
    {
      "cell_type": "code",
      "metadata": {
        "colab": {
          "base_uri": "https://localhost:8080/"
        },
        "id": "-dysvR-5jS5n",
        "outputId": "b2bcfd7c-99f9-49b7-fd95-158c001e95f1"
      },
      "source": [
        "!python3 train.py --model resnet9 --image_size 32"
      ],
      "execution_count": 11,
      "outputs": [
        {
          "output_type": "stream",
          "name": "stdout",
          "text": [
            "Downloading https://www.cs.toronto.edu/~kriz/cifar-100-python.tar.gz to ./data/cifar-100-python.tar.gz\n",
            "169001984it [00:02, 60939331.75it/s]                   \n",
            "Extracting ./data/cifar-100-python.tar.gz to ./data\n",
            "Files already downloaded and verified\n",
            "Epoch [0], last_lr: 0.00278, train_loss: 3.5468, val_loss: 3.4938, val_acc: 0.1891\n",
            "Epoch [1], last_lr: 0.00759, train_loss: 2.8073, val_loss: 2.9713, val_acc: 0.2675\n",
            "Epoch [2], last_lr: 0.01000, train_loss: 2.2985, val_loss: 2.9794, val_acc: 0.2909\n",
            "Epoch [3], last_lr: 0.00950, train_loss: 1.8920, val_loss: 2.3032, val_acc: 0.4004\n",
            "Epoch [4], last_lr: 0.00812, train_loss: 1.6149, val_loss: 1.9947, val_acc: 0.4629\n",
            "Epoch [5], last_lr: 0.00611, train_loss: 1.3204, val_loss: 1.7872, val_acc: 0.5130\n",
            "Epoch [6], last_lr: 0.00389, train_loss: 0.9775, val_loss: 1.6372, val_acc: 0.5553\n",
            "Epoch [7], last_lr: 0.00188, train_loss: 0.4999, val_loss: 1.5659, val_acc: 0.5886\n",
            "Epoch [8], last_lr: 0.00050, train_loss: 0.1251, val_loss: 1.4940, val_acc: 0.6186\n",
            "Epoch [9], last_lr: 0.00000, train_loss: 0.0353, val_loss: 1.5122, val_acc: 0.6188\n"
          ]
        }
      ]
    },
    {
      "cell_type": "code",
      "metadata": {
        "id": "FCPRyCX4jfjS"
      },
      "source": [
        ""
      ],
      "execution_count": 11,
      "outputs": []
    }
  ]
}