{
  "nbformat": 4,
  "nbformat_minor": 0,
  "metadata": {
    "colab": {
      "name": "Cifar100-resnet18-with-augmentation.ipynb",
      "provenance": [],
      "collapsed_sections": [],
      "authorship_tag": "ABX9TyNpHosn8bcEogJXQithg/bs",
      "include_colab_link": true
    },
    "kernelspec": {
      "name": "python3",
      "display_name": "Python 3"
    },
    "language_info": {
      "name": "python"
    },
    "accelerator": "GPU"
  },
  "cells": [
    {
      "cell_type": "markdown",
      "metadata": {
        "id": "view-in-github",
        "colab_type": "text"
      },
      "source": [
        "<a href=\"https://colab.research.google.com/github/dolong2110/Cifar100-Classification/blob/main/Cifar100_resnet18_with_augmentation.ipynb\" target=\"_parent\"><img src=\"https://colab.research.google.com/assets/colab-badge.svg\" alt=\"Open In Colab\"/></a>"
      ]
    },
    {
      "cell_type": "code",
      "metadata": {
        "colab": {
          "base_uri": "https://localhost:8080/"
        },
        "id": "ejKeCvtAUidK",
        "outputId": "1c1a1899-1178-40fd-a341-d69ca0f51d0e"
      },
      "source": [
        "!git clone https://github.com/dolong2110/Cifar100-Classification.git"
      ],
      "execution_count": 24,
      "outputs": [
        {
          "output_type": "stream",
          "name": "stdout",
          "text": [
            "Cloning into 'Cifar100-Classification'...\n",
            "remote: Enumerating objects: 433, done.\u001b[K\n",
            "remote: Counting objects: 100% (433/433), done.\u001b[K\n",
            "remote: Compressing objects: 100% (314/314), done.\u001b[K\n",
            "remote: Total 433 (delta 226), reused 307 (delta 112), pack-reused 0\u001b[K\n",
            "Receiving objects: 100% (433/433), 59.49 KiB | 2.38 MiB/s, done.\n",
            "Resolving deltas: 100% (226/226), done.\n"
          ]
        }
      ]
    },
    {
      "cell_type": "code",
      "metadata": {
        "colab": {
          "base_uri": "https://localhost:8080/"
        },
        "id": "YMAFMUjBUjhj",
        "outputId": "111e26ff-bca7-40c5-c16d-b69a4cb9511f"
      },
      "source": [
        "%cd Cifar100-Classification"
      ],
      "execution_count": 25,
      "outputs": [
        {
          "output_type": "stream",
          "name": "stdout",
          "text": [
            "/content/Cifar100-Classification/Cifar100-Classification/Cifar100-Classification/Cifar100-Classification/Cifar100-Classification/Cifar100-Classification\n"
          ]
        }
      ]
    },
    {
      "cell_type": "code",
      "metadata": {
        "colab": {
          "base_uri": "https://localhost:8080/"
        },
        "id": "ZMihud-MUlOq",
        "outputId": "06acb28b-c591-4037-e284-9df3e655fc36"
      },
      "source": [
        "!pip install -r requirements.txt"
      ],
      "execution_count": 26,
      "outputs": [
        {
          "output_type": "stream",
          "name": "stdout",
          "text": [
            "Requirement already satisfied: numpy>=1.19.5 in /usr/local/lib/python3.7/dist-packages (from -r requirements.txt (line 4)) (1.19.5)\n",
            "Requirement already satisfied: torch>=1.10.0 in /usr/local/lib/python3.7/dist-packages (from -r requirements.txt (line 5)) (1.10.0+cu111)\n",
            "Requirement already satisfied: torchvision>=0.11.1 in /usr/local/lib/python3.7/dist-packages (from -r requirements.txt (line 6)) (0.11.1+cu111)\n",
            "Requirement already satisfied: jsonargparse[signatures] in /usr/local/lib/python3.7/dist-packages (from -r requirements.txt (line 7)) (4.0.2)\n",
            "Requirement already satisfied: matplotlib>=3.2.2 in /usr/local/lib/python3.7/dist-packages (from -r requirements.txt (line 13)) (3.2.2)\n",
            "Requirement already satisfied: typing-extensions in /usr/local/lib/python3.7/dist-packages (from torch>=1.10.0->-r requirements.txt (line 5)) (3.10.0.2)\n",
            "Requirement already satisfied: pillow!=8.3.0,>=5.3.0 in /usr/local/lib/python3.7/dist-packages (from torchvision>=0.11.1->-r requirements.txt (line 6)) (7.1.2)\n",
            "Requirement already satisfied: python-dateutil>=2.1 in /usr/local/lib/python3.7/dist-packages (from matplotlib>=3.2.2->-r requirements.txt (line 13)) (2.8.2)\n",
            "Requirement already satisfied: pyparsing!=2.0.4,!=2.1.2,!=2.1.6,>=2.0.1 in /usr/local/lib/python3.7/dist-packages (from matplotlib>=3.2.2->-r requirements.txt (line 13)) (3.0.6)\n",
            "Requirement already satisfied: cycler>=0.10 in /usr/local/lib/python3.7/dist-packages (from matplotlib>=3.2.2->-r requirements.txt (line 13)) (0.11.0)\n",
            "Requirement already satisfied: kiwisolver>=1.0.1 in /usr/local/lib/python3.7/dist-packages (from matplotlib>=3.2.2->-r requirements.txt (line 13)) (1.3.2)\n",
            "Requirement already satisfied: six>=1.5 in /usr/local/lib/python3.7/dist-packages (from python-dateutil>=2.1->matplotlib>=3.2.2->-r requirements.txt (line 13)) (1.15.0)\n",
            "Requirement already satisfied: PyYAML>=3.13 in /usr/local/lib/python3.7/dist-packages (from jsonargparse[signatures]->-r requirements.txt (line 7)) (3.13)\n",
            "Requirement already satisfied: docstring-parser>=0.7.3 in /usr/local/lib/python3.7/dist-packages (from jsonargparse[signatures]->-r requirements.txt (line 7)) (0.13)\n"
          ]
        }
      ]
    },
    {
      "cell_type": "code",
      "metadata": {
        "colab": {
          "base_uri": "https://localhost:8080/"
        },
        "id": "dBIhV3IPUmuT",
        "outputId": "d9e57808-9ca0-4313-f239-ef8a6a2911f0"
      },
      "source": [
        "!python3 train.py --model resnet18 --augmentation True"
      ],
      "execution_count": 28,
      "outputs": [
        {
          "output_type": "stream",
          "name": "stdout",
          "text": [
            "Downloading https://www.cs.toronto.edu/~kriz/cifar-100-python.tar.gz to ./data/cifar-100-python.tar.gz\n",
            "169001984it [00:02, 61741106.95it/s]                   \n",
            "Extracting ./data/cifar-100-python.tar.gz to ./data\n",
            "Files already downloaded and verified\n",
            "Files already downloaded and verified\n",
            "Epoch [0], last_lr: 0.00278, train_loss: 3.6960, val_loss: 4.0008, val_acc: 0.1222\n",
            "Epoch [1], last_lr: 0.00759, train_loss: 3.0939, val_loss: 3.3159, val_acc: 0.2000\n",
            "Epoch [2], last_lr: 0.01000, train_loss: 2.6021, val_loss: 2.7668, val_acc: 0.3083\n",
            "Epoch [3], last_lr: 0.00950, train_loss: 2.2252, val_loss: 2.2315, val_acc: 0.3994\n",
            "Epoch [4], last_lr: 0.00812, train_loss: 1.9440, val_loss: 2.2173, val_acc: 0.4089\n",
            "Epoch [5], last_lr: 0.00611, train_loss: 1.7143, val_loss: 1.9166, val_acc: 0.4722\n",
            "Epoch [6], last_lr: 0.00389, train_loss: 1.5019, val_loss: 1.6765, val_acc: 0.5318\n",
            "Epoch [7], last_lr: 0.00188, train_loss: 1.2613, val_loss: 1.5153, val_acc: 0.5738\n",
            "Epoch [8], last_lr: 0.00050, train_loss: 0.9863, val_loss: 1.2121, val_acc: 0.6505\n",
            "Epoch [9], last_lr: 0.00000, train_loss: 0.7949, val_loss: 1.1467, val_acc: 0.6739\n"
          ]
        }
      ]
    },
    {
      "cell_type": "code",
      "metadata": {
        "id": "Z2SbW98TUoox"
      },
      "source": [
        ""
      ],
      "execution_count": 27,
      "outputs": []
    }
  ]
}