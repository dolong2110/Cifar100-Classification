{
  "nbformat": 4,
  "nbformat_minor": 0,
  "metadata": {
    "colab": {
      "name": "Cifar100-mobilenet-with-augmentation.ipynb",
      "provenance": [],
      "collapsed_sections": [],
      "authorship_tag": "ABX9TyOaaJz6TI195BQly64rFPpG",
      "include_colab_link": true
    },
    "kernelspec": {
      "name": "python3",
      "display_name": "Python 3"
    },
    "language_info": {
      "name": "python"
    },
    "accelerator": "GPU"
  },
  "cells": [
    {
      "cell_type": "markdown",
      "metadata": {
        "id": "view-in-github",
        "colab_type": "text"
      },
      "source": [
        "<a href=\"https://colab.research.google.com/github/dolong2110/Cifar100-Classification/blob/main/Cifar100_mobilenet_with_augmentation.ipynb\" target=\"_parent\"><img src=\"https://colab.research.google.com/assets/colab-badge.svg\" alt=\"Open In Colab\"/></a>"
      ]
    },
    {
      "cell_type": "code",
      "metadata": {
        "colab": {
          "base_uri": "https://localhost:8080/"
        },
        "id": "ejKeCvtAUidK",
        "outputId": "52414563-59e3-432b-fded-8a6ee5ab431a"
      },
      "source": [
        "!git clone https://github.com/dolong2110/Cifar100-Classification.git"
      ],
      "execution_count": 29,
      "outputs": [
        {
          "output_type": "stream",
          "name": "stdout",
          "text": [
            "Cloning into 'Cifar100-Classification'...\n",
            "remote: Enumerating objects: 436, done.\u001b[K\n",
            "remote: Counting objects: 100% (436/436), done.\u001b[K\n",
            "remote: Compressing objects: 100% (317/317), done.\u001b[K\n",
            "remote: Total 436 (delta 227), reused 307 (delta 112), pack-reused 0\u001b[K\n",
            "Receiving objects: 100% (436/436), 60.80 KiB | 2.53 MiB/s, done.\n",
            "Resolving deltas: 100% (227/227), done.\n"
          ]
        }
      ]
    },
    {
      "cell_type": "code",
      "metadata": {
        "colab": {
          "base_uri": "https://localhost:8080/"
        },
        "id": "YMAFMUjBUjhj",
        "outputId": "7fd4503e-2760-4346-bc2e-f563dff64830"
      },
      "source": [
        "%cd Cifar100-Classification"
      ],
      "execution_count": 30,
      "outputs": [
        {
          "output_type": "stream",
          "name": "stdout",
          "text": [
            "/content/Cifar100-Classification/Cifar100-Classification/Cifar100-Classification/Cifar100-Classification/Cifar100-Classification/Cifar100-Classification/Cifar100-Classification\n"
          ]
        }
      ]
    },
    {
      "cell_type": "code",
      "metadata": {
        "colab": {
          "base_uri": "https://localhost:8080/"
        },
        "id": "ZMihud-MUlOq",
        "outputId": "1c6db788-7905-463b-8798-7b467a35e019"
      },
      "source": [
        "!pip install -r requirements.txt"
      ],
      "execution_count": 31,
      "outputs": [
        {
          "output_type": "stream",
          "name": "stdout",
          "text": [
            "Requirement already satisfied: numpy>=1.19.5 in /usr/local/lib/python3.7/dist-packages (from -r requirements.txt (line 4)) (1.19.5)\n",
            "Requirement already satisfied: torch>=1.10.0 in /usr/local/lib/python3.7/dist-packages (from -r requirements.txt (line 5)) (1.10.0+cu111)\n",
            "Requirement already satisfied: torchvision>=0.11.1 in /usr/local/lib/python3.7/dist-packages (from -r requirements.txt (line 6)) (0.11.1+cu111)\n",
            "Requirement already satisfied: jsonargparse[signatures] in /usr/local/lib/python3.7/dist-packages (from -r requirements.txt (line 7)) (4.0.2)\n",
            "Requirement already satisfied: matplotlib>=3.2.2 in /usr/local/lib/python3.7/dist-packages (from -r requirements.txt (line 13)) (3.2.2)\n",
            "Requirement already satisfied: typing-extensions in /usr/local/lib/python3.7/dist-packages (from torch>=1.10.0->-r requirements.txt (line 5)) (3.10.0.2)\n",
            "Requirement already satisfied: pillow!=8.3.0,>=5.3.0 in /usr/local/lib/python3.7/dist-packages (from torchvision>=0.11.1->-r requirements.txt (line 6)) (7.1.2)\n",
            "Requirement already satisfied: pyparsing!=2.0.4,!=2.1.2,!=2.1.6,>=2.0.1 in /usr/local/lib/python3.7/dist-packages (from matplotlib>=3.2.2->-r requirements.txt (line 13)) (3.0.6)\n",
            "Requirement already satisfied: python-dateutil>=2.1 in /usr/local/lib/python3.7/dist-packages (from matplotlib>=3.2.2->-r requirements.txt (line 13)) (2.8.2)\n",
            "Requirement already satisfied: cycler>=0.10 in /usr/local/lib/python3.7/dist-packages (from matplotlib>=3.2.2->-r requirements.txt (line 13)) (0.11.0)\n",
            "Requirement already satisfied: kiwisolver>=1.0.1 in /usr/local/lib/python3.7/dist-packages (from matplotlib>=3.2.2->-r requirements.txt (line 13)) (1.3.2)\n",
            "Requirement already satisfied: six>=1.5 in /usr/local/lib/python3.7/dist-packages (from python-dateutil>=2.1->matplotlib>=3.2.2->-r requirements.txt (line 13)) (1.15.0)\n",
            "Requirement already satisfied: PyYAML>=3.13 in /usr/local/lib/python3.7/dist-packages (from jsonargparse[signatures]->-r requirements.txt (line 7)) (3.13)\n",
            "Requirement already satisfied: docstring-parser>=0.7.3 in /usr/local/lib/python3.7/dist-packages (from jsonargparse[signatures]->-r requirements.txt (line 7)) (0.13)\n"
          ]
        }
      ]
    },
    {
      "cell_type": "code",
      "metadata": {
        "colab": {
          "base_uri": "https://localhost:8080/"
        },
        "id": "dBIhV3IPUmuT",
        "outputId": "66a6d724-f850-4e0b-d75a-fe269d0d2ebb"
      },
      "source": [
        "!python3 train.py --model mobilenet --augmentation True"
      ],
      "execution_count": 32,
      "outputs": [
        {
          "output_type": "stream",
          "name": "stdout",
          "text": [
            "Downloading https://www.cs.toronto.edu/~kriz/cifar-100-python.tar.gz to ./data/cifar-100-python.tar.gz\n",
            "169001984it [00:02, 59061522.05it/s]                   \n",
            "Extracting ./data/cifar-100-python.tar.gz to ./data\n",
            "Files already downloaded and verified\n",
            "Files already downloaded and verified\n",
            "Epoch [0], last_lr: 0.00278, train_loss: 4.3502, val_loss: 4.4572, val_acc: 0.0484\n",
            "Epoch [1], last_lr: 0.00759, train_loss: 3.7830, val_loss: 4.3204, val_acc: 0.0524\n",
            "Epoch [2], last_lr: 0.01000, train_loss: 3.4351, val_loss: 3.5797, val_acc: 0.1392\n",
            "Epoch [3], last_lr: 0.00950, train_loss: 3.0889, val_loss: 3.1790, val_acc: 0.2102\n",
            "Epoch [4], last_lr: 0.00812, train_loss: 2.7924, val_loss: 2.9520, val_acc: 0.2541\n",
            "Epoch [5], last_lr: 0.00611, train_loss: 2.5164, val_loss: 2.7394, val_acc: 0.2914\n",
            "Epoch [6], last_lr: 0.00389, train_loss: 2.2768, val_loss: 2.3933, val_acc: 0.3553\n",
            "Epoch [7], last_lr: 0.00188, train_loss: 2.0501, val_loss: 2.1654, val_acc: 0.4079\n",
            "Epoch [8], last_lr: 0.00050, train_loss: 1.8344, val_loss: 1.9561, val_acc: 0.4595\n",
            "Epoch [9], last_lr: 0.00000, train_loss: 1.7029, val_loss: 1.9289, val_acc: 0.4635\n"
          ]
        }
      ]
    },
    {
      "cell_type": "code",
      "metadata": {
        "id": "Z2SbW98TUoox"
      },
      "source": [
        ""
      ],
      "execution_count": 32,
      "outputs": []
    }
  ]
}